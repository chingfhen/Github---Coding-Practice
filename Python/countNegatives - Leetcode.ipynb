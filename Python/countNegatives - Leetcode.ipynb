{
 "cells": [
  {
   "cell_type": "markdown",
   "id": "f6298351",
   "metadata": {},
   "source": [
    "# Problem\n",
    "- Link: https://leetcode.com/problems/count-negative-numbers-in-a-sorted-matrix/submissions/\n",
    "- Brief Description: return the number of negative numbers in a nested list"
   ]
  },
  {
   "cell_type": "code",
   "execution_count": null,
   "id": "b3b1ab24",
   "metadata": {},
   "outputs": [],
   "source": [
    "class Solution:\n",
    "    def countNegatives(self, grid: List[List[int]]) -> int:\n",
    "        return sum(map(lambda array: sum(map(lambda n: 0 if n>=0 else 1,array)),grid))\n",
    "    "
   ]
  },
  {
   "cell_type": "markdown",
   "id": "50bfed3f",
   "metadata": {},
   "source": [
    "# Explanation\n",
    "- using map() is very fast\n",
    "- we can also apply sum to map() - sum(map())\n",
    "- using a lambda function set 1 if the number is negative and 0 otherwise\n",
    "- now, sum(map()) will give us the number of negatives"
   ]
  },
  {
   "cell_type": "code",
   "execution_count": null,
   "id": "823bcd98",
   "metadata": {},
   "outputs": [],
   "source": []
  }
 ],
 "metadata": {
  "kernelspec": {
   "display_name": "Python 3",
   "language": "python",
   "name": "python3"
  },
  "language_info": {
   "codemirror_mode": {
    "name": "ipython",
    "version": 3
   },
   "file_extension": ".py",
   "mimetype": "text/x-python",
   "name": "python",
   "nbconvert_exporter": "python",
   "pygments_lexer": "ipython3",
   "version": "3.8.3"
  }
 },
 "nbformat": 4,
 "nbformat_minor": 5
}
