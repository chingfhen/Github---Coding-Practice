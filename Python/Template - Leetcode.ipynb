{
 "cells": [
  {
   "cell_type": "markdown",
   "id": "f6298351",
   "metadata": {},
   "source": [
    "# Problem\n",
    "- Link: \n",
    "- Brief Description:"
   ]
  },
  {
   "cell_type": "code",
   "execution_count": null,
   "id": "38c546fa",
   "metadata": {},
   "outputs": [],
   "source": []
  },
  {
   "cell_type": "markdown",
   "id": "50bfed3f",
   "metadata": {},
   "source": [
    "# Explanation\n",
    "-"
   ]
  }
 ],
 "metadata": {
  "kernelspec": {
   "display_name": "Python 3",
   "language": "python",
   "name": "python3"
  },
  "language_info": {
   "codemirror_mode": {
    "name": "ipython",
    "version": 3
   },
   "file_extension": ".py",
   "mimetype": "text/x-python",
   "name": "python",
   "nbconvert_exporter": "python",
   "pygments_lexer": "ipython3",
   "version": "3.8.3"
  }
 },
 "nbformat": 4,
 "nbformat_minor": 5
}
