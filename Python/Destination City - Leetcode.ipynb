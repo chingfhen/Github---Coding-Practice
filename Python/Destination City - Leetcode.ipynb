{
 "cells": [
  {
   "cell_type": "markdown",
   "id": "6a4c803d",
   "metadata": {},
   "source": [
    "# Problem:\n",
    "- https://leetcode.com/problems/destination-city/\n",
    "- paths lead to one destination, find the destination"
   ]
  },
  {
   "cell_type": "code",
   "execution_count": 63,
   "id": "82b5e830",
   "metadata": {},
   "outputs": [],
   "source": [
    "class Solution:\n",
    "    def destCity(self, paths) -> str:\n",
    "        temp = {path[0] for path in paths}\n",
    "        for path in paths:\n",
    "            if path[1] not in temp:\n",
    "                return path[1]"
   ]
  },
  {
   "cell_type": "code",
   "execution_count": 64,
   "id": "93f978a4",
   "metadata": {},
   "outputs": [
    {
     "data": {
      "text/plain": [
       "'Sao Paulo'"
      ]
     },
     "execution_count": 64,
     "metadata": {},
     "output_type": "execute_result"
    }
   ],
   "source": [
    "paths = [[\"London\",\"New York\"],[\"New York\",\"Lima\"],[\"Lima\",\"Sao Paulo\"]]\n",
    "sol = Solution()\n",
    "sol.destCity(paths)"
   ]
  },
  {
   "cell_type": "markdown",
   "id": "42df6e83",
   "metadata": {},
   "source": [
    "## Explanation:\n",
    "- we can interpret the paths into 2 groups; locations on index 0 and locations on index 1\n",
    "- the destination will always be in index 1 and will never be in index 0 \n",
    "- therefore, for every location in index 1, check if its a location in index 0\n",
    "- if its not, it is the destination"
   ]
  },
  {
   "cell_type": "code",
   "execution_count": null,
   "id": "ece8b884",
   "metadata": {},
   "outputs": [],
   "source": []
  }
 ],
 "metadata": {
  "kernelspec": {
   "display_name": "Python 3",
   "language": "python",
   "name": "python3"
  },
  "language_info": {
   "codemirror_mode": {
    "name": "ipython",
    "version": 3
   },
   "file_extension": ".py",
   "mimetype": "text/x-python",
   "name": "python",
   "nbconvert_exporter": "python",
   "pygments_lexer": "ipython3",
   "version": "3.8.3"
  }
 },
 "nbformat": 4,
 "nbformat_minor": 5
}
