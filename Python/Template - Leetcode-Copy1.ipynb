{
 "cells": [
  {
   "cell_type": "markdown",
   "id": "f6298351",
   "metadata": {},
   "source": [
    "# Problem\n",
    "- Link: https://leetcode.com/problems/minimum-number-of-operations-to-move-all-balls-to-each-box/"
   ]
  },
  {
   "cell_type": "code",
   "execution_count": null,
   "id": "38c546fa",
   "metadata": {},
   "outputs": [],
   "source": [
    "class Solution:\n",
    "    def minOperations(self, boxes: str) -> List[int]:\n",
    "        import numpy as np\n",
    "        output  = np.zeros(len(boxes))\n",
    "        for i in range(len(boxes)):\n",
    "            if boxes[i]=='0':\n",
    "                continue\n",
    "            for j in range(len(output)):\n",
    "                output[j] += abs(i - j) if boxes[i]=='1' else 0\n",
    "        return list(output)\n",
    "        \n",
    "        "
   ]
  },
  {
   "cell_type": "code",
   "execution_count": 6,
   "id": "2891a5aa",
   "metadata": {},
   "outputs": [
    {
     "data": {
      "text/plain": [
       "[11, 8, 5, 4, 3, 4]"
      ]
     },
     "execution_count": 6,
     "metadata": {},
     "output_type": "execute_result"
    }
   ],
   "source": [
    "boxes = \"001011\"\n",
    "[11,8,5,4,3,4]\n",
    " "
   ]
  },
  {
   "cell_type": "code",
   "execution_count": 20,
   "id": "27cd5be7",
   "metadata": {},
   "outputs": [
    {
     "name": "stdout",
     "output_type": "stream",
     "text": [
      "783 ns ± 120 ns per loop (mean ± std. dev. of 7 runs, 1000000 loops each)\n"
     ]
    }
   ],
   "source": [
    "%timeit sum([1 if c=='1' else 0 for c in boxes])"
   ]
  },
  {
   "cell_type": "code",
   "execution_count": 7,
   "id": "c3caaed4",
   "metadata": {},
   "outputs": [],
   "source": [
    "output  = np.zeros(len(boxes))\n",
    "cost = sum([1 if c=='1' else 0 for c in boxes])"
   ]
  },
  {
   "cell_type": "code",
   "execution_count": 10,
   "id": "33422499",
   "metadata": {},
   "outputs": [],
   "source": [
    "for i in range(len(boxes)):\n",
    "    if boxes[i]=='0':\n",
    "        continue\n",
    "    for j in range(len(output)):\n",
    "        output[j] += abs(i - j) if boxes[i]=='1' else 0\n",
    "        \n",
    "        "
   ]
  },
  {
   "cell_type": "code",
   "execution_count": 11,
   "id": "7aa9647f",
   "metadata": {},
   "outputs": [
    {
     "data": {
      "text/plain": [
       "array([11.,  8.,  5.,  4.,  3.,  4.])"
      ]
     },
     "execution_count": 11,
     "metadata": {},
     "output_type": "execute_result"
    }
   ],
   "source": [
    "output"
   ]
  },
  {
   "cell_type": "markdown",
   "id": "50bfed3f",
   "metadata": {},
   "source": [
    "# Explanation\n",
    "-"
   ]
  }
 ],
 "metadata": {
  "kernelspec": {
   "display_name": "Python 3",
   "language": "python",
   "name": "python3"
  },
  "language_info": {
   "codemirror_mode": {
    "name": "ipython",
    "version": 3
   },
   "file_extension": ".py",
   "mimetype": "text/x-python",
   "name": "python",
   "nbconvert_exporter": "python",
   "pygments_lexer": "ipython3",
   "version": "3.8.3"
  }
 },
 "nbformat": 4,
 "nbformat_minor": 5
}
