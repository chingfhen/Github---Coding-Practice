{
 "cells": [
  {
   "cell_type": "markdown",
   "id": "cd15ef54",
   "metadata": {},
   "source": [
    "# Problem:\n",
    "- find the longest prefix\n",
    "- https://leetcode.com/problems/longest-common-prefix/"
   ]
  },
  {
   "cell_type": "markdown",
   "id": "26b1a5a7",
   "metadata": {},
   "source": [
    "## Examples:\n",
    "- example:\n",
    "    - given [\"flower\",\"flow\",\"flight\"], the longest prefic will be \"fl\""
   ]
  },
  {
   "cell_type": "code",
   "execution_count": 31,
   "id": "55ce8826",
   "metadata": {},
   "outputs": [],
   "source": [
    "class Solution:\n",
    "    def longestCommonPrefix(self, strs) -> str:\n",
    "        for length in range(min(map(len,strs)),0,-1):\n",
    "            # print(\"==\".join(map(lambda word: f\"'{word[:length]}'\",strs)))\n",
    "            if eval(\"==\".join(map(lambda word: f\"'{word[:length]}'\",strs))):\n",
    "                return strs[0][:length]\n",
    "        return \"\""
   ]
  },
  {
   "cell_type": "markdown",
   "id": "195a25eb",
   "metadata": {},
   "source": [
    "## Solution explanation:\n",
    "- assume that the longest prefix is the longest possible and we work our way down\n",
    "- utilise eval() the following strings in order\n",
    "    1. 'flow'=='flow'=='flig'\n",
    "    2.'flo'=='flo'=='fli'\n",
    "    3. 'fl'=='fl'=='fl'"
   ]
  },
  {
   "cell_type": "code",
   "execution_count": 1,
   "id": "5b20c570",
   "metadata": {},
   "outputs": [],
   "source": [
    "class Solution:\n",
    "    def longestCommonPrefix(self, strs) -> str:\n",
    "        for length in range(min(map(len,strs)),0,-1):\n",
    "            print(\"==\".join(map(lambda word: f\"'{word[:length]}'\",strs)))\n",
    "            if eval(\"==\".join(map(lambda word: f\"'{word[:length]}'\",strs))):\n",
    "                return strs[0][:length]\n",
    "        return \"\""
   ]
  },
  {
   "cell_type": "code",
   "execution_count": 2,
   "id": "c6855842",
   "metadata": {},
   "outputs": [],
   "source": [
    "sol = Solution()"
   ]
  },
  {
   "cell_type": "code",
   "execution_count": 3,
   "id": "3043206d",
   "metadata": {},
   "outputs": [
    {
     "name": "stdout",
     "output_type": "stream",
     "text": [
      "'flow'=='flow'=='flig'\n",
      "'flo'=='flo'=='fli'\n",
      "'fl'=='fl'=='fl'\n"
     ]
    },
    {
     "data": {
      "text/plain": [
       "'fl'"
      ]
     },
     "execution_count": 3,
     "metadata": {},
     "output_type": "execute_result"
    }
   ],
   "source": [
    "sol.longestCommonPrefix([\"flower\",\"flow\",\"flight\"])"
   ]
  },
  {
   "cell_type": "code",
   "execution_count": null,
   "id": "1236cf95",
   "metadata": {},
   "outputs": [],
   "source": []
  }
 ],
 "metadata": {
  "kernelspec": {
   "display_name": "Python 3",
   "language": "python",
   "name": "python3"
  },
  "language_info": {
   "codemirror_mode": {
    "name": "ipython",
    "version": 3
   },
   "file_extension": ".py",
   "mimetype": "text/x-python",
   "name": "python",
   "nbconvert_exporter": "python",
   "pygments_lexer": "ipython3",
   "version": "3.8.3"
  }
 },
 "nbformat": 4,
 "nbformat_minor": 5
}
