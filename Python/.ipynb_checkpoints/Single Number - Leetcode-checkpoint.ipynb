{
 "cells": [
  {
   "cell_type": "markdown",
   "id": "6a4c803d",
   "metadata": {},
   "source": [
    "# Problem:\n",
    "- https://leetcode.com/problems/single-number/"
   ]
  },
  {
   "cell_type": "code",
   "execution_count": 59,
   "id": "4aa646ea",
   "metadata": {},
   "outputs": [],
   "source": [
    "class Solution:\n",
    "    def singleNumber(self, nums) -> int:\n",
    "        ct = Counter(nums)\n",
    "        for num in ct.keys():\n",
    "            if ct[num]==1:\n",
    "                return num"
   ]
  },
  {
   "cell_type": "markdown",
   "id": "42df6e83",
   "metadata": {},
   "source": [
    "## Explanation:\n",
    "- use Counter() from itertools which retrieves the count of each number very quickly\n",
    "- for each item, if the value is 1, return the answer"
   ]
  }
 ],
 "metadata": {
  "kernelspec": {
   "display_name": "Python 3",
   "language": "python",
   "name": "python3"
  },
  "language_info": {
   "codemirror_mode": {
    "name": "ipython",
    "version": 3
   },
   "file_extension": ".py",
   "mimetype": "text/x-python",
   "name": "python",
   "nbconvert_exporter": "python",
   "pygments_lexer": "ipython3",
   "version": "3.8.3"
  }
 },
 "nbformat": 4,
 "nbformat_minor": 5
}
