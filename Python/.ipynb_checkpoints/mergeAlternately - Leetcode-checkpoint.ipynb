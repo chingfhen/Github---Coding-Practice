{
 "cells": [
  {
   "cell_type": "markdown",
   "id": "f6298351",
   "metadata": {},
   "source": [
    "# Problem\n",
    "- Link: https://leetcode.com/problems/merge-strings-alternately"
   ]
  },
  {
   "cell_type": "code",
   "execution_count": null,
   "id": "38c546fa",
   "metadata": {},
   "outputs": [],
   "source": [
    "class Solution:\n",
    "    def mergeAlternately(self, word1: str, word2: str) -> str:\n",
    "        output = \"\"\n",
    "        for i in range(min(len(word1),len(word2))):\n",
    "            output+=word1[i]+word2[i]\n",
    "        if min(len(word1),len(word2))==len(word1):\n",
    "            return output+word2[len(word1):]\n",
    "        return output+word1[len(word2):]"
   ]
  },
  {
   "cell_type": "markdown",
   "id": "50bfed3f",
   "metadata": {},
   "source": [
    "# Explanation\n",
    "- the trick is to just loop once through the shorter word.\n",
    "- as we do, add a character from word1, followed by a character from word2 as required\n",
    "- at the end of loop, concat the remaining of the longer word without any loops"
   ]
  }
 ],
 "metadata": {
  "kernelspec": {
   "display_name": "Python 3",
   "language": "python",
   "name": "python3"
  },
  "language_info": {
   "codemirror_mode": {
    "name": "ipython",
    "version": 3
   },
   "file_extension": ".py",
   "mimetype": "text/x-python",
   "name": "python",
   "nbconvert_exporter": "python",
   "pygments_lexer": "ipython3",
   "version": "3.8.3"
  }
 },
 "nbformat": 4,
 "nbformat_minor": 5
}
