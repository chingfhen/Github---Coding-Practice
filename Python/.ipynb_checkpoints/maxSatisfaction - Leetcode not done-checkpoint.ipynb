{
 "cells": [
  {
   "cell_type": "markdown",
   "id": "f6298351",
   "metadata": {},
   "source": [
    "# Problem\n",
    "- Link: https://leetcode.com/problems/reducing-dishes/\n",
    "- Brief Description:"
   ]
  },
  {
   "cell_type": "code",
   "execution_count": null,
   "id": "38c546fa",
   "metadata": {},
   "outputs": [],
   "source": [
    "class Solution:\n",
    "    def maxSatisfaction(self, satisfaction: List[int]) -> int:\n",
    "        import numpy as np\n",
    "        satisfaction.sort()\n",
    "        for i in range(len(satisfaction)):\n",
    "            if abs(satisfaction[i])<satisfaction[-1]:\n",
    "                break\n",
    "\n",
    "\n",
    "        return sum(np.array(satisfaction[i:])*range(1,len(satisfaction[i:])+1))"
   ]
  },
  {
   "cell_type": "code",
   "execution_count": 21,
   "id": "5583dc46",
   "metadata": {},
   "outputs": [
    {
     "name": "stdout",
     "output_type": "stream",
     "text": [
      "9 5\n",
      "8 5\n",
      "1 5\n"
     ]
    },
    {
     "data": {
      "text/plain": [
       "14"
      ]
     },
     "execution_count": 21,
     "metadata": {},
     "output_type": "execute_result"
    }
   ],
   "source": [
    "satisfaction = [-1,-8,0,5,-9]\n",
    "import numpy as np\n",
    "satisfaction.sort()\n",
    "# satisfaction\n",
    "for i in range(len(satisfaction)):\n",
    "    print(abs(satisfaction[i]),satisfaction[-1])\n",
    "    if abs(satisfaction[i])<satisfaction[-1]:\n",
    "        break\n",
    "        \n",
    "\n",
    "sum(np.array(satisfaction[i:])*range(1,len(satisfaction[i:])+1))"
   ]
  },
  {
   "cell_type": "code",
   "execution_count": 7,
   "id": "757085f6",
   "metadata": {},
   "outputs": [
    {
     "data": {
      "text/plain": [
       "0"
      ]
     },
     "execution_count": 7,
     "metadata": {},
     "output_type": "execute_result"
    }
   ],
   "source": [
    "i"
   ]
  },
  {
   "cell_type": "code",
   "execution_count": 4,
   "id": "7790d3b0",
   "metadata": {},
   "outputs": [
    {
     "data": {
      "text/plain": [
       "[-9, -8, -1, 0, 5]"
      ]
     },
     "execution_count": 4,
     "metadata": {},
     "output_type": "execute_result"
    }
   ],
   "source": [
    "satisfaction"
   ]
  },
  {
   "cell_type": "markdown",
   "id": "50bfed3f",
   "metadata": {},
   "source": [
    "# Explanation\n",
    "-"
   ]
  }
 ],
 "metadata": {
  "kernelspec": {
   "display_name": "Python 3",
   "language": "python",
   "name": "python3"
  },
  "language_info": {
   "codemirror_mode": {
    "name": "ipython",
    "version": 3
   },
   "file_extension": ".py",
   "mimetype": "text/x-python",
   "name": "python",
   "nbconvert_exporter": "python",
   "pygments_lexer": "ipython3",
   "version": "3.8.3"
  }
 },
 "nbformat": 4,
 "nbformat_minor": 5
}
