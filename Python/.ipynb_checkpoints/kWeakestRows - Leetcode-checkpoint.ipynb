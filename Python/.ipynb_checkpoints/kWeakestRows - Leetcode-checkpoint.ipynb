{
 "cells": [
  {
   "cell_type": "markdown",
   "id": "f6298351",
   "metadata": {},
   "source": [
    "# Problem\n",
    "- Link: https://leetcode.com/problems/the-k-weakest-rows-in-a-matrix"
   ]
  },
  {
   "cell_type": "code",
   "execution_count": null,
   "id": "e21ff1f1",
   "metadata": {},
   "outputs": [],
   "source": [
    "class Solution:\n",
    "    def kWeakestRows(self, mat: List[List[int]], k: int) -> List[int]:\n",
    "        return sorted(range(len(mat)), key = lambda i: sum(mat[i]))[:k]"
   ]
  },
  {
   "cell_type": "markdown",
   "id": "50bfed3f",
   "metadata": {},
   "source": [
    "# Explanation\n",
    "- sorted() function has a key parameter which allows us to be very specific about what we want to sort the array by\n",
    "- in this case, we sort by the sum of each subarray \n",
    "- calculating the sum of a single subarray is O(n) which is done m times \n",
    "- sorting by the array of sums in O(mlogm) \n",
    "- therefore time complexity: O(m *(n+logm))"
   ]
  }
 ],
 "metadata": {
  "kernelspec": {
   "display_name": "Python 3",
   "language": "python",
   "name": "python3"
  },
  "language_info": {
   "codemirror_mode": {
    "name": "ipython",
    "version": 3
   },
   "file_extension": ".py",
   "mimetype": "text/x-python",
   "name": "python",
   "nbconvert_exporter": "python",
   "pygments_lexer": "ipython3",
   "version": "3.8.3"
  }
 },
 "nbformat": 4,
 "nbformat_minor": 5
}
