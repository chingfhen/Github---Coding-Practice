{
 "cells": [
  {
   "cell_type": "markdown",
   "id": "f6298351",
   "metadata": {},
   "source": [
    "# Problem\n",
    "- Link: https://leetcode.com/problems/self-dividing-numbers/submissions/"
   ]
  },
  {
   "cell_type": "code",
   "execution_count": null,
   "id": "38c546fa",
   "metadata": {},
   "outputs": [],
   "source": [
    "class Solution:\n",
    "    def selfDividingNumbers(self, left: int, right: int) -> List[int]:\n",
    "        \n",
    "        output = []\n",
    "        \n",
    "        for number_in_question in range(left,right+1):\n",
    "            \n",
    "            numbers = list(map(int,list(str(number_in_question))))   # convert into a list of integers\n",
    "            is_self_dividing = True\n",
    "            \n",
    "            if 0 in numbers:                        # a self dividing number cannot contain 0\n",
    "                continue\n",
    "                \n",
    "            for num in numbers:                     # for each integer in the number if it is not a divisor break\n",
    "                if number_in_question%num!=0:   \n",
    "                    is_self_dividing=False\n",
    "                    break\n",
    "                    \n",
    "            if is_self_dividing:                    # a self dividing number will complete the above for loop and be appended to output list\n",
    "                output.append(number_in_question)\n",
    "        return output"
   ]
  },
  {
   "cell_type": "markdown",
   "id": "50bfed3f",
   "metadata": {},
   "source": [
    "# Explanation\n",
    "- in comments"
   ]
  }
 ],
 "metadata": {
  "kernelspec": {
   "display_name": "Python 3",
   "language": "python",
   "name": "python3"
  },
  "language_info": {
   "codemirror_mode": {
    "name": "ipython",
    "version": 3
   },
   "file_extension": ".py",
   "mimetype": "text/x-python",
   "name": "python",
   "nbconvert_exporter": "python",
   "pygments_lexer": "ipython3",
   "version": "3.8.3"
  }
 },
 "nbformat": 4,
 "nbformat_minor": 5
}
