{
 "cells": [
  {
   "cell_type": "markdown",
   "id": "f6298351",
   "metadata": {},
   "source": [
    "# Problem\n",
    "- Link: https://leetcode.com/problems/minimum-number-of-steps-to-make-two-strings-anagram"
   ]
  },
  {
   "cell_type": "code",
   "execution_count": null,
   "id": "38c546fa",
   "metadata": {},
   "outputs": [],
   "source": [
    "class Solution:\n",
    "    def minSteps(self, s: str, t: str) -> int:\n",
    "        count_s = collections.Counter(s)\n",
    "        count_t = collections.Counter(t)\n",
    "        return sum((count_s-count_t).values())"
   ]
  },
  {
   "cell_type": "markdown",
   "id": "50bfed3f",
   "metadata": {},
   "source": [
    "# Explanation\n",
    "- Counter() produces the character frequency counts in O(n)\n",
    "- count_s-count_t gives the frequency of characters that are in s but not in t - therefore need to be replaced \n",
    "- taking the above sum gives the solution\n",
    "- note: arithmetics can be applied to Counter dicts but not orginal dicts"
   ]
  }
 ],
 "metadata": {
  "kernelspec": {
   "display_name": "Python 3",
   "language": "python",
   "name": "python3"
  },
  "language_info": {
   "codemirror_mode": {
    "name": "ipython",
    "version": 3
   },
   "file_extension": ".py",
   "mimetype": "text/x-python",
   "name": "python",
   "nbconvert_exporter": "python",
   "pygments_lexer": "ipython3",
   "version": "3.8.3"
  }
 },
 "nbformat": 4,
 "nbformat_minor": 5
}
