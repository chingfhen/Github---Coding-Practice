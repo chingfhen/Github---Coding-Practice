{
 "cells": [
  {
   "cell_type": "markdown",
   "id": "f6298351",
   "metadata": {},
   "source": [
    "# Problem\n",
    "- Link: https://leetcode.com/problems/generate-a-string-with-characters-that-have-odd-counts"
   ]
  },
  {
   "cell_type": "code",
   "execution_count": null,
   "id": "10b07f73",
   "metadata": {},
   "outputs": [],
   "source": [
    "class Solution:\n",
    "    def generateTheString(self, n: int) -> str: \n",
    "        return (n-1)*\"a\"+\"b\" if n%2==0 else \"a\"*n"
   ]
  },
  {
   "cell_type": "markdown",
   "id": "50bfed3f",
   "metadata": {},
   "source": [
    "# Explanation\n",
    "- not much.\n",
    "- x if condition else y - is a very useful method"
   ]
  }
 ],
 "metadata": {
  "kernelspec": {
   "display_name": "Python 3",
   "language": "python",
   "name": "python3"
  },
  "language_info": {
   "codemirror_mode": {
    "name": "ipython",
    "version": 3
   },
   "file_extension": ".py",
   "mimetype": "text/x-python",
   "name": "python",
   "nbconvert_exporter": "python",
   "pygments_lexer": "ipython3",
   "version": "3.8.3"
  }
 },
 "nbformat": 4,
 "nbformat_minor": 5
}
