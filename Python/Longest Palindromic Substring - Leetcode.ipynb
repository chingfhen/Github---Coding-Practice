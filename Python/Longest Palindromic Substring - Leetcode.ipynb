{
 "cells": [
  {
   "cell_type": "markdown",
   "id": "8046e922",
   "metadata": {},
   "source": [
    "# Problem: \n",
    "- find the longest palindrome substring\n",
    "- https://leetcode.com/problems/longest-palindromic-substring/"
   ]
  },
  {
   "cell_type": "markdown",
   "id": "d2a2e390",
   "metadata": {},
   "source": [
    "## Example:\n",
    "- \"abccbafd\"\n",
    "- longest palindrome will be \"abccba\""
   ]
  },
  {
   "cell_type": "code",
   "execution_count": 56,
   "id": "dd29987c",
   "metadata": {},
   "outputs": [],
   "source": [
    "class Solution:\n",
    "    def longestPalindrome(self, s: str) -> str:\n",
    "        \n",
    "        if len(s)==1:\n",
    "            return s                            # settle base cases\n",
    "            \n",
    "        for length in range(len(s),1,-1):\n",
    "            for i in range(len(s)-length+1):\n",
    "                string = s[i:i+length]\n",
    "                if string[-(len(string)//2):][::-1]==string[:len(string)//2]:\n",
    "                    return string     \n",
    "        return s[0]"
   ]
  },
  {
   "cell_type": "markdown",
   "id": "5545cd8f",
   "metadata": {},
   "source": [
    "## Explanation\n",
    "- assume the palindrome is the longest possible and work our way down: \n",
    "- for each string in question:\n",
    "    - split into half: abc <> cba\n",
    "    - reverse the second half: abc <> abc\n",
    "    - compare: abc==abc\n",
    "    - \"abccba\" is a palindrome"
   ]
  },
  {
   "cell_type": "code",
   "execution_count": 57,
   "id": "b7415399",
   "metadata": {},
   "outputs": [],
   "source": [
    "class Solution:\n",
    "    def longestPalindrome(self, s: str) -> str:\n",
    "        \n",
    "        if len(s)==1:\n",
    "            return s                            # settle base cases\n",
    "            \n",
    "        for length in range(len(s),1,-1):\n",
    "            for i in range(len(s)-length+1):\n",
    "                string = s[i:i+length]\n",
    "                print(\"String in question:\", string)\n",
    "                print(\"Compare: \",string[-(len(string)//2):][::-1],string[:len(string)//2])\n",
    "                print()\n",
    "                if string[-(len(string)//2):][::-1]==string[:len(string)//2]:\n",
    "                    return string\n",
    "                    \n",
    "        return s[0]"
   ]
  },
  {
   "cell_type": "code",
   "execution_count": 59,
   "id": "36cfdc52",
   "metadata": {
    "scrolled": true
   },
   "outputs": [
    {
     "name": "stdout",
     "output_type": "stream",
     "text": [
      "String in question: abccbafd\n",
      "Compare:  dfab abcc\n",
      "\n",
      "String in question: abccbaf\n",
      "Compare:  fab abc\n",
      "\n",
      "String in question: bccbafd\n",
      "Compare:  dfa bcc\n",
      "\n",
      "String in question: abccba\n",
      "Compare:  abc abc\n",
      "\n"
     ]
    },
    {
     "data": {
      "text/plain": [
       "'abccba'"
      ]
     },
     "execution_count": 59,
     "metadata": {},
     "output_type": "execute_result"
    }
   ],
   "source": [
    "sol = Solution()\n",
    "sol.longestPalindrome(\"abccbafd\")"
   ]
  },
  {
   "cell_type": "code",
   "execution_count": null,
   "id": "e85108c3",
   "metadata": {},
   "outputs": [],
   "source": []
  }
 ],
 "metadata": {
  "kernelspec": {
   "display_name": "Python 3",
   "language": "python",
   "name": "python3"
  },
  "language_info": {
   "codemirror_mode": {
    "name": "ipython",
    "version": 3
   },
   "file_extension": ".py",
   "mimetype": "text/x-python",
   "name": "python",
   "nbconvert_exporter": "python",
   "pygments_lexer": "ipython3",
   "version": "3.8.3"
  }
 },
 "nbformat": 4,
 "nbformat_minor": 5
}
