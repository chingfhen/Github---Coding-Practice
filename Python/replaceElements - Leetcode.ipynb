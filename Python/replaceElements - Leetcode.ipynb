{
 "cells": [
  {
   "cell_type": "markdown",
   "id": "f6298351",
   "metadata": {},
   "source": [
    "# Problem\n",
    "- Link: https://leetcode.com/problems/replace-elements-with-greatest-element-on-right-side/"
   ]
  },
  {
   "cell_type": "code",
   "execution_count": null,
   "id": "38c546fa",
   "metadata": {},
   "outputs": [],
   "source": [
    "class Solution:\n",
    "    def replaceElements(self, arr: List[int]) -> List[int]:\n",
    "        largest, arr[-1] = arr[-1], -1\n",
    "        for i in range(len(arr)-2,-1,-1):\n",
    "            arr[i], largest = largest,max(largest,arr[i])\n",
    "        return arr"
   ]
  },
  {
   "cell_type": "markdown",
   "id": "50bfed3f",
   "metadata": {},
   "source": [
    "# Explanation\n",
    "- we loop from right to left.\n",
    "- this way we can have a 'largest' variable that keeps track of the largest number \n",
    "- as we iterate from right to left largest = max(largest,arr[i]) updates the largest number\n",
    "- arr[i] = largest ;is an in place operation, which saves memory"
   ]
  },
  {
   "cell_type": "markdown",
   "id": "4b1fa30b",
   "metadata": {},
   "source": [
    "## Extras:\n",
    "- max() has a worse time complexity of O(n) which is slow. As much as possible use max() only when comparing two numbers\n"
   ]
  }
 ],
 "metadata": {
  "kernelspec": {
   "display_name": "Python 3",
   "language": "python",
   "name": "python3"
  },
  "language_info": {
   "codemirror_mode": {
    "name": "ipython",
    "version": 3
   },
   "file_extension": ".py",
   "mimetype": "text/x-python",
   "name": "python",
   "nbconvert_exporter": "python",
   "pygments_lexer": "ipython3",
   "version": "3.8.3"
  }
 },
 "nbformat": 4,
 "nbformat_minor": 5
}
