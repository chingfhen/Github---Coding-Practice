{
 "cells": [
  {
   "cell_type": "markdown",
   "id": "6a4c803d",
   "metadata": {},
   "source": [
    "# Problem:\n",
    "- https://leetcode.com/problems/matrix-diagonal-sum/\n",
    "- given a square grid return the sum of primary and secondary diagonals"
   ]
  },
  {
   "cell_type": "code",
   "execution_count": 39,
   "id": "4aa646ea",
   "metadata": {},
   "outputs": [],
   "source": [
    "class Solution:\n",
    "    def diagonalSum(self, mat) -> int:\n",
    "        total = 0 if len(mat)%2==0 else -mat[len(mat)//2][len(mat)//2]\n",
    "\n",
    "        for row_id in range(len(mat)):\n",
    "            total+=mat[row_id][row_id]\n",
    "            total+=mat[row_id][len(mat)-row_id-1]\n",
    "            \n",
    "        return total"
   ]
  },
  {
   "cell_type": "code",
   "execution_count": 40,
   "id": "660bab33",
   "metadata": {},
   "outputs": [],
   "source": [
    "sol = Solution()"
   ]
  },
  {
   "cell_type": "code",
   "execution_count": 41,
   "id": "d9b1bb20",
   "metadata": {},
   "outputs": [
    {
     "data": {
      "text/plain": [
       "25"
      ]
     },
     "execution_count": 41,
     "metadata": {},
     "output_type": "execute_result"
    }
   ],
   "source": [
    "mat = [[1,2,3],\n",
    "      [4,5,6],\n",
    "      [7,8,9]]\n",
    "sol.diagonalSum(mat)"
   ]
  },
  {
   "cell_type": "code",
   "execution_count": 42,
   "id": "0b78c234",
   "metadata": {},
   "outputs": [
    {
     "data": {
      "text/plain": [
       "8"
      ]
     },
     "execution_count": 42,
     "metadata": {},
     "output_type": "execute_result"
    }
   ],
   "source": [
    "mat = [[1,1,1,1],\n",
    "      [1,1,1,1],\n",
    "      [1,1,1,1],\n",
    "      [1,1,1,1]]\n",
    "sol.diagonalSum(mat)"
   ]
  },
  {
   "cell_type": "markdown",
   "id": "42df6e83",
   "metadata": {},
   "source": [
    "## Explanation:\n",
    "- there are two types of diagonals at hand; even-numbered sides and odd-numbered sides\n",
    "- each number added is counted only once - middle number 5 is counted only once\n",
    "- by making adjustments to the total, we only need one algorithm for both types of grid"
   ]
  },
  {
   "cell_type": "code",
   "execution_count": null,
   "id": "ece8b884",
   "metadata": {},
   "outputs": [],
   "source": []
  }
 ],
 "metadata": {
  "kernelspec": {
   "display_name": "Python 3",
   "language": "python",
   "name": "python3"
  },
  "language_info": {
   "codemirror_mode": {
    "name": "ipython",
    "version": 3
   },
   "file_extension": ".py",
   "mimetype": "text/x-python",
   "name": "python",
   "nbconvert_exporter": "python",
   "pygments_lexer": "ipython3",
   "version": "3.8.3"
  }
 },
 "nbformat": 4,
 "nbformat_minor": 5
}
