{
 "cells": [
  {
   "cell_type": "markdown",
   "id": "f6298351",
   "metadata": {},
   "source": [
    "# Problem\n",
    "- Link: https://leetcode.com/problems/climbing-stairs/submissions/\n",
    "- much tougher problem that i used combinatorics to solve"
   ]
  },
  {
   "cell_type": "code",
   "execution_count": 9,
   "id": "38c546fa",
   "metadata": {},
   "outputs": [],
   "source": [
    "from math import factorial"
   ]
  },
  {
   "cell_type": "code",
   "execution_count": null,
   "id": "7b723256",
   "metadata": {},
   "outputs": [],
   "source": [
    "class Solution:\n",
    "    def climbStairs(self, n: int) -> int:\n",
    "        ways = 0\n",
    "        ones = n                                  \n",
    "        for twos in range(n//2+1):\n",
    "            ways+= factorial(twos+ones)/(factorial(ones)*factorial(twos))\n",
    "            ones-=2\n",
    "        return int(ways)"
   ]
  },
  {
   "cell_type": "markdown",
   "id": "50bfed3f",
   "metadata": {},
   "source": [
    "# Explanation\n",
    "- take n = 8\n",
    "- there are 5 distinct groups\n",
    "    - 2222\n",
    "    - 22211\n",
    "    - 221111\n",
    "    - 2111111\n",
    "    - 11111111\n",
    "- for each group the number of ways can be solved by combinatorics by the formula:\n",
    "    - factorial(twos+ones)/(factorial(ones)*factorial(twos))\n",
    "        - where twos is the number of twos\n",
    "        - where ones is the number of ones\n",
    "\n",
    "\n",
    "- loop through eaach group and add up the number of ways to give the answer"
   ]
  }
 ],
 "metadata": {
  "kernelspec": {
   "display_name": "Python 3",
   "language": "python",
   "name": "python3"
  },
  "language_info": {
   "codemirror_mode": {
    "name": "ipython",
    "version": 3
   },
   "file_extension": ".py",
   "mimetype": "text/x-python",
   "name": "python",
   "nbconvert_exporter": "python",
   "pygments_lexer": "ipython3",
   "version": "3.8.3"
  }
 },
 "nbformat": 4,
 "nbformat_minor": 5
}
